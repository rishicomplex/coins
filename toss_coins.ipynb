{
 "cells": [
  {
   "cell_type": "markdown",
   "metadata": {},
   "source": [
    "## Setup"
   ]
  },
  {
   "cell_type": "code",
   "execution_count": 22,
   "metadata": {},
   "outputs": [],
   "source": [
    "with open('../openai_key.txt', 'r') as f:\n",
    "    OPENAI_API_KEY = f.read().strip()\n",
    "with open('../claude_key.txt', 'r') as f:\n",
    "    ANTHROPIC_API_KEY = f.read().strip()\n",
    "with open('../gemini_key.txt', 'r') as f:\n",
    "    GEMINI_API_KEY = f.read().strip()\n",
    "\n",
    "COIN_PROMPT = 'Toss an unbiased coin. Output nothing except \"Heads\" or \"Tails\". They should each be equally likely. Do not use any tools, just output the result.'\n"
   ]
  },
  {
   "cell_type": "markdown",
   "metadata": {},
   "source": [
    "## OpenAI"
   ]
  },
  {
   "cell_type": "code",
   "execution_count": 52,
   "metadata": {},
   "outputs": [
    {
     "name": "stdout",
     "output_type": "stream",
     "text": [
      "Heads: 0.68\n",
      "T: 0.32\n",
      "Sure: 0.00\n",
      "To: 0.00\n",
      "Certainly: 0.00\n"
     ]
    }
   ],
   "source": [
    "import openai\n",
    "import os\n",
    "import numpy as np\n",
    "\n",
    "os.environ['OPENAI_API_KEY'] = OPENAI_API_KEY\n",
    "\n",
    "openai_client = openai.OpenAI()\n",
    "\n",
    "completion = openai_client.chat.completions.create(\n",
    "    model=\"gpt-4o\",\n",
    "    messages=[\n",
    "        {\n",
    "            \"role\": \"user\",\n",
    "            \"content\": COIN_PROMPT\n",
    "        }\n",
    "    ],\n",
    "    logprobs=True,\n",
    "    top_logprobs=5,\n",
    ")\n",
    "\n",
    "for token in completion.choices[0].logprobs.content[0].top_logprobs:\n",
    "    print(f'{token.token}: {np.exp(token.logprob):.2f}')"
   ]
  },
  {
   "cell_type": "markdown",
   "metadata": {},
   "source": [
    "## Gemini"
   ]
  },
  {
   "cell_type": "code",
   "execution_count": 44,
   "metadata": {},
   "outputs": [
    {
     "name": "stderr",
     "output_type": "stream",
     "text": [
      "100%|██████████| 20/20 [00:13<00:00,  1.51it/s]"
     ]
    },
    {
     "name": "stdout",
     "output_type": "stream",
     "text": [
      "Heads: 1.00, Tails: 0.00, Other: 0.00\n"
     ]
    },
    {
     "name": "stderr",
     "output_type": "stream",
     "text": [
      "\n"
     ]
    }
   ],
   "source": [
    "import google.generativeai as genai\n",
    "\n",
    "genai.configure(api_key=GEMINI_API_KEY)\n",
    "gemini_model = genai.GenerativeModel(\"gemini-1.5-pro\")\n",
    "\n",
    "from tqdm import tqdm\n",
    "\n",
    "def count_coin_tosses(sample_fn, num_attempts=10):\n",
    "    head_count = 0\n",
    "    tail_count = 0\n",
    "    other_count = 0\n",
    "    for _ in tqdm(range(num_attempts)):\n",
    "        text = sample_fn()\n",
    "        if text.startswith('Heads'):\n",
    "            head_count += 1\n",
    "        elif text.startswith('Tails'):\n",
    "            tail_count += 1\n",
    "        else:\n",
    "            other_count += 1\n",
    "            print(fr'Other: {text}')\n",
    "    print(f'Heads: {head_count / num_attempts:.2f}, Tails: {tail_count / num_attempts:.2f}, Other: {other_count / num_attempts:.2f}')\n",
    "\n",
    "\n",
    "count_coin_tosses(lambda: gemini_model.generate_content(COIN_PROMPT).text, num_attempts=20)\n"
   ]
  },
  {
   "cell_type": "markdown",
   "metadata": {},
   "source": [
    "## Claude"
   ]
  },
  {
   "cell_type": "code",
   "execution_count": 43,
   "metadata": {},
   "outputs": [
    {
     "name": "stderr",
     "output_type": "stream",
     "text": [
      "  0%|          | 0/20 [00:00<?, ?it/s]"
     ]
    },
    {
     "name": "stderr",
     "output_type": "stream",
     "text": [
      "100%|██████████| 20/20 [00:09<00:00,  2.08it/s]"
     ]
    },
    {
     "name": "stdout",
     "output_type": "stream",
     "text": [
      "Heads: 0.65, Tails: 0.35, Other: 0.00\n"
     ]
    },
    {
     "name": "stderr",
     "output_type": "stream",
     "text": [
      "\n"
     ]
    }
   ],
   "source": [
    "import anthropic\n",
    "\n",
    "\n",
    "anthropic_client = anthropic.Anthropic(api_key=ANTHROPIC_API_KEY)\n",
    "\n",
    "def sample_fn():\n",
    "    message = anthropic_client.messages.create(\n",
    "        model=\"claude-3-5-sonnet-20241022\",\n",
    "        max_tokens=1000,\n",
    "        messages=[\n",
    "            {\n",
    "                \"role\": \"user\",\n",
    "                \"content\": [\n",
    "                    {\n",
    "                        \"type\": \"text\",\n",
    "                        \"text\": COIN_PROMPT\n",
    "                    }\n",
    "                ]\n",
    "            }\n",
    "        ]\n",
    "    )\n",
    "    return message.content[0].text\n",
    "\n",
    "count_coin_tosses(sample_fn, num_attempts=20)\n"
   ]
  }
 ],
 "metadata": {
  "kernelspec": {
   "display_name": "coins_env",
   "language": "python",
   "name": "python3"
  },
  "language_info": {
   "codemirror_mode": {
    "name": "ipython",
    "version": 3
   },
   "file_extension": ".py",
   "mimetype": "text/x-python",
   "name": "python",
   "nbconvert_exporter": "python",
   "pygments_lexer": "ipython3",
   "version": "3.13.0"
  }
 },
 "nbformat": 4,
 "nbformat_minor": 2
}
